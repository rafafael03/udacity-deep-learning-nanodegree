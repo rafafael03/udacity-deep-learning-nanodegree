{
 "cells": [
  {
   "cell_type": "markdown",
   "metadata": {},
   "source": [
    "# Training Neural Networks\n",
    "\n",
    "The network we built in the previous part isn't so smart, it doesn't know anything about our handwritten digits. Neural networks with non-linear activations work like universal function approximators. There is some function that maps your input to the output. For example, images of handwritten digits to class probabilities. The power of neural networks is that we can train them to approximate this function, and basically any function given enough data and compute time.\n",
    "\n",
    "<img src=\"assets/function_approx.png\" width=500px>\n",
    "\n",
    "At first the network is naive, it doesn't know the function mapping the inputs to the outputs. We train the network by showing it examples of real data, then adjusting the network parameters such that it approximates this function.\n",
    "\n",
    "To find these parameters, we need to know how poorly the network is predicting the real outputs. For this we calculate a **loss function** (also called the cost), a measure of our prediction error. For example, the mean squared loss is often used in regression and binary classification problems\n",
    "\n",
    "$$\n",
    "\\large \\ell = \\frac{1}{2n}\\sum_i^n{\\left(y_i - \\hat{y}_i\\right)^2}\n",
    "$$\n",
    "\n",
    "where $n$ is the number of training examples, $y_i$ are the true labels, and $\\hat{y}_i$ are the predicted labels.\n",
    "\n",
    "By minimizing this loss with respect to the network parameters, we can find configurations where the loss is at a minimum and the network is able to predict the correct labels with high accuracy. We find this minimum using a process called **gradient descent**. The gradient is the slope of the loss function and points in the direction of fastest change. To get to the minimum in the least amount of time, we then want to follow the gradient (downwards). You can think of this like descending a mountain by following the steepest slope to the base.\n",
    "\n",
    "<img src='assets/gradient_descent.png' width=350px>"
   ]
  },
  {
   "cell_type": "markdown",
   "metadata": {},
   "source": [
    "## Backpropagation\n",
    "\n",
    "For single layer networks, gradient descent is straightforward to implement. However, it's more complicated for deeper, multilayer neural networks like the one we've built. Complicated enough that it took about 30 years before researchers figured out how to train multilayer networks.\n",
    "\n",
    "Training multilayer networks is done through **backpropagation** which is really just an application of the chain rule from calculus. It's easiest to understand if we convert a two layer network into a graph representation.\n",
    "\n",
    "<img src='assets/backprop_diagram.png' width=550px>\n",
    "\n",
    "In the forward pass through the network, our data and operations go from bottom to top here. We pass the input $x$ through a linear transformation $L_1$ with weights $W_1$ and biases $b_1$. The output then goes through the sigmoid operation $S$ and another linear transformation $L_2$. Finally we calculate the loss $\\ell$. We use the loss as a measure of how bad the network's predictions are. The goal then is to adjust the weights and biases to minimize the loss.\n",
    "\n",
    "To train the weights with gradient descent, we propagate the gradient of the loss backwards through the network. Each operation has some gradient between the inputs and outputs. As we send the gradients backwards, we multiply the incoming gradient with the gradient for the operation. Mathematically, this is really just calculating the gradient of the loss with respect to the weights using the chain rule.\n",
    "\n",
    "$$\n",
    "\\large \\frac{\\partial \\ell}{\\partial W_1} = \\frac{\\partial L_1}{\\partial W_1} \\frac{\\partial S}{\\partial L_1} \\frac{\\partial L_2}{\\partial S} \\frac{\\partial \\ell}{\\partial L_2}\n",
    "$$\n",
    "\n",
    "**Note:** I'm glossing over a few details here that require some knowledge of vector calculus, but they aren't necessary to understand what's going on.\n",
    "\n",
    "We update our weights using this gradient with some learning rate $\\alpha$. \n",
    "\n",
    "$$\n",
    "\\large W^\\prime_1 = W_1 - \\alpha \\frac{\\partial \\ell}{\\partial W_1}\n",
    "$$\n",
    "\n",
    "The learning rate $\\alpha$ is set such that the weight update steps are small enough that the iterative method settles in a minimum."
   ]
  },
  {
   "cell_type": "markdown",
   "metadata": {},
   "source": [
    "## Losses in PyTorch\n",
    "\n",
    "Let's start by seeing how we calculate the loss with PyTorch. Through the `nn` module, PyTorch provides losses such as the cross-entropy loss (`nn.CrossEntropyLoss`). You'll usually see the loss assigned to `criterion`. As noted in the last part, with a classification problem such as MNIST, we're using the softmax function to predict class probabilities. With a softmax output, you want to use cross-entropy as the loss. To actually calculate the loss, you first define the criterion then pass in the output of your network and the correct labels.\n",
    "\n",
    "Something really important to note here. Looking at [the documentation for `nn.CrossEntropyLoss`](https://pytorch.org/docs/stable/nn.html#torch.nn.CrossEntropyLoss),\n",
    "\n",
    "> This criterion combines `nn.LogSoftmax()` and `nn.NLLLoss()` in one single class.\n",
    ">\n",
    "> The input is expected to contain scores for each class.\n",
    "\n",
    "This means we need to pass in the raw output of our network into the loss, not the output of the softmax function. This raw output is usually called the *logits* or *scores*. We use the logits because softmax gives you probabilities which will often be very close to zero or one but floating-point numbers can't accurately represent values near zero or one ([read more here](https://docs.python.org/3/tutorial/floatingpoint.html)). It's usually best to avoid doing calculations with probabilities, typically we use log-probabilities."
   ]
  },
  {
   "cell_type": "code",
   "execution_count": 1,
   "metadata": {},
   "outputs": [
    {
     "name": "stdout",
     "output_type": "stream",
     "text": [
      "Downloading http://yann.lecun.com/exdb/mnist/train-images-idx3-ubyte.gz\n",
      "Downloading http://yann.lecun.com/exdb/mnist/train-labels-idx1-ubyte.gz\n",
      "Downloading http://yann.lecun.com/exdb/mnist/t10k-images-idx3-ubyte.gz\n",
      "Downloading http://yann.lecun.com/exdb/mnist/t10k-labels-idx1-ubyte.gz\n",
      "Processing...\n",
      "Done!\n"
     ]
    }
   ],
   "source": [
    "import torch\n",
    "from torch import nn\n",
    "import torch.nn.functional as F\n",
    "from torchvision import datasets, transforms\n",
    "\n",
    "# Define a transform to normalize the data\n",
    "transform = transforms.Compose([transforms.ToTensor(),\n",
    "                                transforms.Normalize((0.5, 0.5, 0.5), (0.5, 0.5, 0.5)),\n",
    "                              ])\n",
    "# Download and load the training data\n",
    "trainset = datasets.MNIST('~/.pytorch/MNIST_data/', download=True, train=True, transform=transform)\n",
    "trainloader = torch.utils.data.DataLoader(trainset, batch_size=64, shuffle=True)"
   ]
  },
  {
   "cell_type": "markdown",
   "metadata": {},
   "source": [
    "### Note\n",
    "If you haven't seen `nn.Sequential` yet, please finish the end of the Part 2 notebook."
   ]
  },
  {
   "cell_type": "code",
   "execution_count": 2,
   "metadata": {},
   "outputs": [
    {
     "name": "stdout",
     "output_type": "stream",
     "text": [
      "tensor(2.3165)\n",
      "tensor([[ 0.1711,  0.0411,  0.0440,  0.0157, -0.1190,  0.0960, -0.0222,\n",
      "         -0.0827, -0.0434, -0.0089],\n",
      "        [ 0.0300,  0.1307,  0.0091,  0.0048, -0.0415,  0.2130,  0.0722,\n",
      "         -0.1579,  0.1084,  0.0752],\n",
      "        [ 0.0446,  0.0103,  0.0456, -0.0400, -0.1306,  0.1339,  0.0462,\n",
      "         -0.1483,  0.0224, -0.0433],\n",
      "        [ 0.1111,  0.0387,  0.0552, -0.0369, -0.0153,  0.1339, -0.0466,\n",
      "         -0.0993,  0.0374,  0.0188],\n",
      "        [ 0.0696, -0.0230, -0.0159, -0.0175, -0.1358,  0.0594,  0.0720,\n",
      "         -0.1205,  0.0373,  0.0344],\n",
      "        [ 0.1188,  0.0702, -0.0232,  0.0525, -0.0693,  0.1313,  0.0689,\n",
      "         -0.1422,  0.0104, -0.0484],\n",
      "        [ 0.1114,  0.0698, -0.0168,  0.0388,  0.0804,  0.2177,  0.0489,\n",
      "         -0.0451,  0.1198,  0.0873],\n",
      "        [ 0.0657,  0.0651, -0.0095,  0.0195,  0.0153,  0.1034, -0.0290,\n",
      "         -0.1238,  0.0950,  0.0922],\n",
      "        [ 0.0569,  0.0733, -0.0408, -0.0308, -0.0622,  0.2105,  0.0391,\n",
      "         -0.1676,  0.0427,  0.0106],\n",
      "        [ 0.0334,  0.0867,  0.0106,  0.0008, -0.1227,  0.1035,  0.0106,\n",
      "         -0.1885, -0.0203, -0.0289],\n",
      "        [ 0.0786,  0.0597,  0.0492, -0.0244, -0.0491,  0.0965, -0.0078,\n",
      "         -0.1284,  0.0364, -0.0311],\n",
      "        [ 0.1242,  0.0069,  0.0141, -0.0884, -0.0614,  0.1075, -0.0750,\n",
      "         -0.1541,  0.0406, -0.0107],\n",
      "        [ 0.0592,  0.0852,  0.0274, -0.0295, -0.1113,  0.1434,  0.0317,\n",
      "         -0.1016,  0.0733, -0.0061],\n",
      "        [ 0.1348,  0.0610,  0.0186,  0.0078, -0.0451,  0.1032, -0.0371,\n",
      "         -0.0721,  0.1050,  0.0291],\n",
      "        [ 0.0238,  0.0537, -0.0110, -0.0218,  0.0309,  0.1749,  0.0751,\n",
      "         -0.0680,  0.0390,  0.0753],\n",
      "        [ 0.0455, -0.0321,  0.0391,  0.0265, -0.0041,  0.2299,  0.0563,\n",
      "         -0.1247,  0.0570,  0.0204],\n",
      "        [ 0.0675, -0.0101,  0.0427, -0.0105, -0.0757,  0.1208,  0.0325,\n",
      "         -0.0478,  0.0434,  0.0337],\n",
      "        [ 0.0853,  0.0309,  0.0167,  0.0159, -0.0655,  0.1584, -0.0620,\n",
      "         -0.0953,  0.0417,  0.0302],\n",
      "        [ 0.1456,  0.0565,  0.0378, -0.0450, -0.0276,  0.1567,  0.0483,\n",
      "         -0.0184,  0.0442, -0.0021],\n",
      "        [ 0.1540,  0.0201, -0.0291, -0.0183, -0.0974,  0.1964, -0.0046,\n",
      "         -0.0872, -0.0939, -0.0195],\n",
      "        [ 0.0783,  0.0111, -0.0034,  0.0244, -0.0301,  0.1092,  0.0974,\n",
      "         -0.1569,  0.0670,  0.0190],\n",
      "        [ 0.0845,  0.1150,  0.0511,  0.0547, -0.0166,  0.1780,  0.0501,\n",
      "         -0.0804,  0.0337, -0.0128],\n",
      "        [ 0.0500,  0.0371,  0.0144, -0.0177, -0.0364,  0.1660, -0.0582,\n",
      "         -0.1658,  0.0323,  0.0164],\n",
      "        [ 0.1597,  0.0310, -0.0249,  0.0364, -0.0817,  0.1201,  0.1006,\n",
      "         -0.0487,  0.0442, -0.0181],\n",
      "        [ 0.0401,  0.0353, -0.0166, -0.0364, -0.0075,  0.1320,  0.0123,\n",
      "         -0.0893, -0.0051,  0.0580],\n",
      "        [ 0.0787,  0.0660, -0.0288,  0.0486, -0.0224,  0.2213,  0.1097,\n",
      "         -0.0665, -0.0143, -0.0226],\n",
      "        [ 0.0239,  0.0186, -0.0277, -0.0261, -0.0951,  0.2127,  0.0329,\n",
      "         -0.1467, -0.0064,  0.0001],\n",
      "        [ 0.0452,  0.0419,  0.0099, -0.0029,  0.0328,  0.2085, -0.0214,\n",
      "         -0.0701, -0.0244,  0.0290],\n",
      "        [ 0.1070,  0.0962, -0.0390, -0.0319, -0.0200,  0.1104,  0.0181,\n",
      "         -0.0928,  0.0140,  0.0319],\n",
      "        [ 0.1041,  0.0384,  0.0027, -0.0010, -0.0010,  0.1448,  0.0223,\n",
      "         -0.0581, -0.0258, -0.0329],\n",
      "        [ 0.1160,  0.0397,  0.0569,  0.0758, -0.0715,  0.0617,  0.0683,\n",
      "         -0.0554, -0.0117,  0.0022],\n",
      "        [ 0.0957,  0.1157, -0.0506, -0.0711,  0.0076,  0.1704,  0.0251,\n",
      "          0.0122,  0.0550,  0.0657],\n",
      "        [ 0.1462, -0.0950,  0.0347,  0.0556, -0.0614,  0.0560, -0.0417,\n",
      "         -0.0628,  0.0526,  0.0360],\n",
      "        [ 0.0708,  0.0540,  0.0052, -0.0478, -0.0728,  0.1420, -0.0227,\n",
      "         -0.1273,  0.0343, -0.0511],\n",
      "        [ 0.0834,  0.0709, -0.0008, -0.0218, -0.0559,  0.1341, -0.0689,\n",
      "         -0.1687,  0.0365, -0.0095],\n",
      "        [ 0.1315,  0.0488,  0.0411, -0.0268, -0.0569,  0.2113, -0.0648,\n",
      "         -0.1286,  0.0037, -0.0423],\n",
      "        [ 0.0744,  0.1114, -0.0083,  0.0060, -0.0207,  0.1302,  0.0353,\n",
      "         -0.0967,  0.0900,  0.0814],\n",
      "        [ 0.1479,  0.0376,  0.0001, -0.0094, -0.0340,  0.0796,  0.0578,\n",
      "         -0.0728, -0.0577,  0.0233],\n",
      "        [ 0.1829,  0.0883,  0.0496, -0.0393,  0.0875,  0.2022,  0.0002,\n",
      "         -0.0432,  0.0204, -0.0052],\n",
      "        [ 0.0503,  0.0035,  0.0172,  0.0514, -0.0151,  0.1819, -0.0216,\n",
      "         -0.0989,  0.0557,  0.0055],\n",
      "        [ 0.1219,  0.1133,  0.0882,  0.0474, -0.0360,  0.1808, -0.0095,\n",
      "         -0.0852, -0.0024, -0.0245],\n",
      "        [ 0.0646,  0.1169, -0.0086, -0.0111, -0.0133,  0.1640,  0.0062,\n",
      "         -0.1470,  0.0069,  0.0193],\n",
      "        [ 0.0372,  0.0673,  0.0193,  0.0508, -0.0748,  0.1079, -0.0266,\n",
      "         -0.1456,  0.0386,  0.0573],\n",
      "        [ 0.0487,  0.0562, -0.0637,  0.0775,  0.0359,  0.1789,  0.1511,\n",
      "         -0.1139,  0.0749,  0.0346],\n",
      "        [ 0.0526,  0.0680, -0.0426,  0.0123, -0.0722,  0.0746,  0.0054,\n",
      "         -0.1688,  0.0299, -0.0087],\n",
      "        [ 0.1459,  0.0888,  0.0049,  0.0084, -0.0517,  0.0954, -0.0426,\n",
      "         -0.0799,  0.0290,  0.0258],\n",
      "        [ 0.1357,  0.0753, -0.0138,  0.0284, -0.1204,  0.1456,  0.1121,\n",
      "         -0.1623, -0.0714, -0.0798],\n",
      "        [ 0.0259,  0.0701, -0.0177,  0.0055,  0.0342,  0.2257, -0.1098,\n",
      "         -0.1555,  0.0203,  0.1016],\n",
      "        [ 0.1050,  0.1167, -0.0123, -0.0686, -0.0411,  0.0631, -0.0817,\n",
      "         -0.1152,  0.0082,  0.0270],\n",
      "        [ 0.1388,  0.0882,  0.0289, -0.0884, -0.0102,  0.1230, -0.0490,\n",
      "         -0.1095, -0.0027,  0.0114],\n",
      "        [ 0.0336,  0.0095, -0.0474, -0.0260, -0.0409,  0.0821, -0.0052,\n",
      "         -0.1092,  0.0812,  0.0898],\n",
      "        [ 0.1035,  0.0874,  0.0549, -0.0118, -0.0414,  0.1494, -0.0298,\n",
      "         -0.1611, -0.0232, -0.0223],\n",
      "        [ 0.0025,  0.0712, -0.0066, -0.0034, -0.0909,  0.0939, -0.0452,\n",
      "         -0.2139, -0.0062,  0.0360],\n",
      "        [ 0.0868,  0.0443, -0.1109, -0.0903, -0.0312,  0.0917,  0.0068,\n",
      "         -0.0036, -0.0249,  0.0548],\n",
      "        [ 0.1238,  0.0563,  0.0332,  0.0342,  0.0068,  0.1854, -0.0095,\n",
      "         -0.0516, -0.0192, -0.0074],\n",
      "        [ 0.1073,  0.0483,  0.0127, -0.0398, -0.0093,  0.1455, -0.0684,\n",
      "         -0.0555,  0.0229,  0.0241],\n",
      "        [ 0.1145,  0.0620,  0.0105, -0.0476, -0.0296,  0.1540, -0.0338,\n",
      "         -0.0831,  0.0471,  0.0384],\n",
      "        [ 0.0994,  0.0602, -0.0202, -0.0110,  0.0064,  0.1426, -0.0504,\n",
      "         -0.1211,  0.0359,  0.0741],\n",
      "        [ 0.1856,  0.0503,  0.0709,  0.0780, -0.0517,  0.1456, -0.0360,\n",
      "         -0.0827,  0.1376,  0.0525],\n",
      "        [ 0.1576,  0.0534,  0.0872,  0.0057, -0.0438,  0.1876, -0.0468,\n",
      "         -0.1081, -0.0073, -0.0428],\n",
      "        [ 0.0540,  0.1231, -0.0453, -0.0117, -0.0533,  0.2119,  0.1759,\n",
      "         -0.0752,  0.1032, -0.0029],\n",
      "        [ 0.0606,  0.0269,  0.0407,  0.0085, -0.0093,  0.0628,  0.0371,\n",
      "         -0.0543,  0.0386,  0.0564],\n",
      "        [ 0.1239,  0.0013,  0.0428,  0.0138, -0.0496,  0.1319,  0.0110,\n",
      "         -0.0416, -0.0255,  0.0171],\n",
      "        [ 0.1134,  0.0120, -0.0883,  0.0151, -0.0220,  0.1758,  0.1504,\n",
      "          0.0090,  0.0637,  0.0106]])\n"
     ]
    }
   ],
   "source": [
    "# Build a feed-forward network\n",
    "model = nn.Sequential(nn.Linear(784, 128),\n",
    "                      nn.ReLU(),\n",
    "                      nn.Linear(128, 64),\n",
    "                      nn.ReLU(),\n",
    "                      nn.Linear(64, 10))\n",
    "\n",
    "# Define the loss\n",
    "criterion = nn.CrossEntropyLoss()\n",
    "\n",
    "# Get our data\n",
    "images, labels = next(iter(trainloader))\n",
    "# Flatten images\n",
    "images = images.view(images.shape[0], -1)\n",
    "\n",
    "# Forward pass, get our logits\n",
    "logits = model(images)\n",
    "# Calculate the loss with the logits and the labels\n",
    "loss = criterion(logits, labels)\n",
    "\n",
    "print(loss)\n",
    "print(logits)"
   ]
  },
  {
   "cell_type": "markdown",
   "metadata": {},
   "source": [
    "In my experience it's more convenient to build the model with a log-softmax output using `nn.LogSoftmax` or `F.log_softmax` ([documentation](https://pytorch.org/docs/stable/nn.html#torch.nn.LogSoftmax)). Then you can get the actual probabilities by taking the exponential `torch.exp(output)`. With a log-softmax output, you want to use the negative log likelihood loss, `nn.NLLLoss` ([documentation](https://pytorch.org/docs/stable/nn.html#torch.nn.NLLLoss)).\n",
    "\n",
    ">**Exercise:** Build a model that returns the log-softmax as the output and calculate the loss using the negative log likelihood loss. Note that for `nn.LogSoftmax` and `F.log_softmax` you'll need to set the `dim` keyword argument appropriately. `dim=0` calculates softmax across the rows, so each column sums to 1, while `dim=1` calculates across the columns so each row sums to 1. Think about what you want the output to be and choose `dim` appropriately."
   ]
  },
  {
   "cell_type": "code",
   "execution_count": 3,
   "metadata": {},
   "outputs": [
    {
     "name": "stdout",
     "output_type": "stream",
     "text": [
      "tensor(2.3080)\n"
     ]
    }
   ],
   "source": [
    "# TODO: Build a feed-forward network\n",
    "model = nn.Sequential(\n",
    "            nn.Linear(784, 128),\n",
    "            nn.ReLU(),\n",
    "            nn.Linear(128, 64),\n",
    "            nn.ReLU(),\n",
    "            nn.Linear(64, 10),\n",
    "            nn.LogSoftmax(dim=1)\n",
    "        )\n",
    "\n",
    "# TODO: Define the loss\n",
    "criterion = nn.NLLLoss()\n",
    "\n",
    "### Run this to check your work\n",
    "# Get our data\n",
    "images, labels = next(iter(trainloader))\n",
    "# Flatten images\n",
    "images = images.view(images.shape[0], -1)\n",
    "\n",
    "# Forward pass, get our logits\n",
    "logits = model(images)\n",
    "# Calculate the loss with the logits and the labels\n",
    "loss = criterion(logits, labels)\n",
    "\n",
    "print(loss)"
   ]
  },
  {
   "cell_type": "markdown",
   "metadata": {},
   "source": [
    "## Autograd\n",
    "\n",
    "Now that we know how to calculate a loss, how do we use it to perform backpropagation? Torch provides a module, `autograd`, for automatically calculating the gradients of tensors. We can use it to calculate the gradients of all our parameters with respect to the loss. Autograd works by keeping track of operations performed on tensors, then going backwards through those operations, calculating gradients along the way. To make sure PyTorch keeps track of operations on a tensor and calculates the gradients, you need to set `requires_grad = True` on a tensor. You can do this at creation with the `requires_grad` keyword, or at any time with `x.requires_grad_(True)`.\n",
    "\n",
    "You can turn off gradients for a block of code with the `torch.no_grad()` content:\n",
    "```python\n",
    "x = torch.zeros(1, requires_grad=True)\n",
    ">>> with torch.no_grad():\n",
    "...     y = x * 2\n",
    ">>> y.requires_grad\n",
    "False\n",
    "```\n",
    "\n",
    "Also, you can turn on or off gradients altogether with `torch.set_grad_enabled(True|False)`.\n",
    "\n",
    "The gradients are computed with respect to some variable `z` with `z.backward()`. This does a backward pass through the operations that created `z`."
   ]
  },
  {
   "cell_type": "code",
   "execution_count": 4,
   "metadata": {},
   "outputs": [
    {
     "name": "stdout",
     "output_type": "stream",
     "text": [
      "tensor([[-1.0558,  0.7945],\n",
      "        [ 0.0163, -0.2954]])\n"
     ]
    }
   ],
   "source": [
    "x = torch.randn(2,2, requires_grad=True)\n",
    "print(x)"
   ]
  },
  {
   "cell_type": "code",
   "execution_count": 5,
   "metadata": {},
   "outputs": [
    {
     "name": "stdout",
     "output_type": "stream",
     "text": [
      "tensor([[ 1.1148,  0.6312],\n",
      "        [ 0.0003,  0.0873]])\n"
     ]
    }
   ],
   "source": [
    "y = x**2\n",
    "print(y)"
   ]
  },
  {
   "cell_type": "markdown",
   "metadata": {},
   "source": [
    "Below we can see the operation that created `y`, a power operation `PowBackward0`."
   ]
  },
  {
   "cell_type": "code",
   "execution_count": 6,
   "metadata": {},
   "outputs": [
    {
     "name": "stdout",
     "output_type": "stream",
     "text": [
      "<PowBackward0 object at 0x7f36cec166a0>\n"
     ]
    }
   ],
   "source": [
    "## grad_fn shows the function that generated this variable\n",
    "print(y.grad_fn)"
   ]
  },
  {
   "cell_type": "markdown",
   "metadata": {},
   "source": [
    "The autgrad module keeps track of these operations and knows how to calculate the gradient for each one. In this way, it's able to calculate the gradients for a chain of operations, with respect to any one tensor. Let's reduce the tensor `y` to a scalar value, the mean."
   ]
  },
  {
   "cell_type": "code",
   "execution_count": 7,
   "metadata": {},
   "outputs": [
    {
     "name": "stdout",
     "output_type": "stream",
     "text": [
      "tensor(0.4584)\n"
     ]
    }
   ],
   "source": [
    "z = y.mean()\n",
    "print(z)"
   ]
  },
  {
   "cell_type": "markdown",
   "metadata": {},
   "source": [
    "You can check the gradients for `x` and `y` but they are empty currently."
   ]
  },
  {
   "cell_type": "code",
   "execution_count": 8,
   "metadata": {},
   "outputs": [
    {
     "name": "stdout",
     "output_type": "stream",
     "text": [
      "None\n"
     ]
    }
   ],
   "source": [
    "print(x.grad)"
   ]
  },
  {
   "cell_type": "markdown",
   "metadata": {},
   "source": [
    "To calculate the gradients, you need to run the `.backward` method on a Variable, `z` for example. This will calculate the gradient for `z` with respect to `x`\n",
    "\n",
    "$$\n",
    "\\frac{\\partial z}{\\partial x} = \\frac{\\partial}{\\partial x}\\left[\\frac{1}{n}\\sum_i^n x_i^2\\right] = \\frac{x}{2}\n",
    "$$"
   ]
  },
  {
   "cell_type": "code",
   "execution_count": 9,
   "metadata": {},
   "outputs": [
    {
     "name": "stdout",
     "output_type": "stream",
     "text": [
      "tensor([[-0.5279,  0.3973],\n",
      "        [ 0.0082, -0.1477]])\n",
      "tensor([[-0.5279,  0.3973],\n",
      "        [ 0.0082, -0.1477]])\n"
     ]
    }
   ],
   "source": [
    "z.backward()\n",
    "print(x.grad)\n",
    "print(x/2)"
   ]
  },
  {
   "cell_type": "markdown",
   "metadata": {},
   "source": [
    "These gradients calculations are particularly useful for neural networks. For training we need the gradients of the weights with respect to the cost. With PyTorch, we run data forward through the network to calculate the loss, then, go backwards to calculate the gradients with respect to the loss. Once we have the gradients we can make a gradient descent step. "
   ]
  },
  {
   "cell_type": "markdown",
   "metadata": {},
   "source": [
    "## Loss and Autograd together\n",
    "\n",
    "When we create a network with PyTorch, all of the parameters are initialized with `requires_grad = True`. This means that when we calculate the loss and call `loss.backward()`, the gradients for the parameters are calculated. These gradients are used to update the weights with gradient descent. Below you can see an example of calculating the gradients using a backwards pass."
   ]
  },
  {
   "cell_type": "code",
   "execution_count": 10,
   "metadata": {},
   "outputs": [],
   "source": [
    "# Build a feed-forward network\n",
    "model = nn.Sequential(nn.Linear(784, 128),\n",
    "                      nn.ReLU(),\n",
    "                      nn.Linear(128, 64),\n",
    "                      nn.ReLU(),\n",
    "                      nn.Linear(64, 10),\n",
    "                      nn.LogSoftmax(dim=1))\n",
    "\n",
    "criterion = nn.NLLLoss()\n",
    "images, labels = next(iter(trainloader))\n",
    "images = images.view(images.shape[0], -1)\n",
    "\n",
    "logits = model(images)\n",
    "loss = criterion(logits, labels)"
   ]
  },
  {
   "cell_type": "code",
   "execution_count": 11,
   "metadata": {},
   "outputs": [
    {
     "name": "stdout",
     "output_type": "stream",
     "text": [
      "Before backward pass: \n",
      " None\n",
      "After backward pass: \n",
      " tensor(1.00000e-02 *\n",
      "       [[ 0.1585,  0.1585,  0.1585,  ...,  0.1585,  0.1585,  0.1585],\n",
      "        [-0.1642, -0.1642, -0.1642,  ..., -0.1642, -0.1642, -0.1642],\n",
      "        [ 0.0283,  0.0283,  0.0283,  ...,  0.0283,  0.0283,  0.0283],\n",
      "        ...,\n",
      "        [ 0.3948,  0.3948,  0.3948,  ...,  0.3948,  0.3948,  0.3948],\n",
      "        [ 0.0622,  0.0622,  0.0622,  ...,  0.0622,  0.0622,  0.0622],\n",
      "        [ 0.1533,  0.1533,  0.1533,  ...,  0.1533,  0.1533,  0.1533]])\n"
     ]
    }
   ],
   "source": [
    "print('Before backward pass: \\n', model[0].weight.grad)\n",
    "\n",
    "loss.backward()\n",
    "\n",
    "print('After backward pass: \\n', model[0].weight.grad)"
   ]
  },
  {
   "cell_type": "markdown",
   "metadata": {},
   "source": [
    "## Training the network!\n",
    "\n",
    "There's one last piece we need to start training, an optimizer that we'll use to update the weights with the gradients. We get these from PyTorch's [`optim` package](https://pytorch.org/docs/stable/optim.html). For example we can use stochastic gradient descent with `optim.SGD`. You can see how to define an optimizer below."
   ]
  },
  {
   "cell_type": "code",
   "execution_count": 12,
   "metadata": {},
   "outputs": [],
   "source": [
    "from torch import optim\n",
    "\n",
    "# Optimizers require the parameters to optimize and a learning rate\n",
    "optimizer = optim.SGD(model.parameters(), lr=0.01)"
   ]
  },
  {
   "cell_type": "markdown",
   "metadata": {},
   "source": [
    "Now we know how to use all the individual parts so it's time to see how they work together. Let's consider just one learning step before looping through all the data. The general process with PyTorch:\n",
    "\n",
    "* Make a forward pass through the network \n",
    "* Use the network output to calculate the loss\n",
    "* Perform a backward pass through the network with `loss.backward()` to calculate the gradients\n",
    "* Take a step with the optimizer to update the weights\n",
    "\n",
    "Below I'll go through one training step and print out the weights and gradients so you can see how it changes. Note that I have a line of code `optimizer.zero_grad()`. When you do multiple backwards passes with the same parameters, the gradients are accumulated. This means that you need to zero the gradients on each training pass or you'll retain gradients from previous training batches."
   ]
  },
  {
   "cell_type": "code",
   "execution_count": 13,
   "metadata": {},
   "outputs": [
    {
     "name": "stdout",
     "output_type": "stream",
     "text": [
      "Initial weights -  Parameter containing:\n",
      "tensor([[ 1.0561e-02,  1.2582e-02, -3.5358e-02,  ...,  3.2011e-02,\n",
      "          3.5162e-02, -1.5350e-02],\n",
      "        [ 3.4679e-02, -3.9881e-03, -3.0824e-02,  ..., -8.9238e-04,\n",
      "         -3.4207e-02,  2.2309e-02],\n",
      "        [-3.0170e-02,  3.2128e-02,  8.7674e-03,  ...,  2.8878e-02,\n",
      "         -1.9726e-02,  3.5324e-03],\n",
      "        ...,\n",
      "        [ 3.1106e-02, -2.3467e-02, -1.4138e-02,  ..., -1.0663e-02,\n",
      "          7.8961e-03,  1.7063e-02],\n",
      "        [-1.4928e-02,  3.3238e-02, -1.3933e-02,  ...,  9.9069e-03,\n",
      "          1.5979e-02, -8.6298e-03],\n",
      "        [ 1.1486e-02,  3.1035e-02, -5.1341e-03,  ..., -1.5384e-02,\n",
      "         -1.8577e-02,  1.2723e-02]])\n",
      "Gradient - tensor(1.00000e-02 *\n",
      "       [[ 0.3332,  0.3332,  0.3332,  ...,  0.3332,  0.3332,  0.3332],\n",
      "        [-0.3525, -0.3525, -0.3525,  ..., -0.3525, -0.3525, -0.3525],\n",
      "        [-0.1579, -0.1579, -0.1579,  ..., -0.1579, -0.1579, -0.1579],\n",
      "        ...,\n",
      "        [ 0.2673,  0.2673,  0.2673,  ...,  0.2673,  0.2673,  0.2673],\n",
      "        [ 0.2110,  0.2110,  0.2110,  ...,  0.2110,  0.2110,  0.2110],\n",
      "        [ 0.1514,  0.1514,  0.1514,  ...,  0.1514,  0.1514,  0.1514]])\n"
     ]
    }
   ],
   "source": [
    "print('Initial weights - ', model[0].weight)\n",
    "\n",
    "images, labels = next(iter(trainloader))\n",
    "images.resize_(64, 784)\n",
    "\n",
    "# Clear the gradients, do this because gradients are accumulated\n",
    "optimizer.zero_grad()\n",
    "\n",
    "# Forward pass, then backward pass, then update weights\n",
    "output = model.forward(images)\n",
    "loss = criterion(output, labels)\n",
    "loss.backward()\n",
    "print('Gradient -', model[0].weight.grad)"
   ]
  },
  {
   "cell_type": "code",
   "execution_count": 14,
   "metadata": {},
   "outputs": [
    {
     "name": "stdout",
     "output_type": "stream",
     "text": [
      "Updated weights -  Parameter containing:\n",
      "tensor([[ 1.0527e-02,  1.2549e-02, -3.5391e-02,  ...,  3.1978e-02,\n",
      "          3.5129e-02, -1.5383e-02],\n",
      "        [ 3.4714e-02, -3.9529e-03, -3.0789e-02,  ..., -8.5713e-04,\n",
      "         -3.4171e-02,  2.2344e-02],\n",
      "        [-3.0154e-02,  3.2143e-02,  8.7832e-03,  ...,  2.8894e-02,\n",
      "         -1.9710e-02,  3.5482e-03],\n",
      "        ...,\n",
      "        [ 3.1079e-02, -2.3494e-02, -1.4165e-02,  ..., -1.0690e-02,\n",
      "          7.8693e-03,  1.7036e-02],\n",
      "        [-1.4949e-02,  3.3217e-02, -1.3954e-02,  ...,  9.8858e-03,\n",
      "          1.5958e-02, -8.6509e-03],\n",
      "        [ 1.1471e-02,  3.1020e-02, -5.1493e-03,  ..., -1.5399e-02,\n",
      "         -1.8592e-02,  1.2708e-02]])\n"
     ]
    }
   ],
   "source": [
    "# Take an update step and few the new weights\n",
    "optimizer.step()\n",
    "print('Updated weights - ', model[0].weight)"
   ]
  },
  {
   "cell_type": "markdown",
   "metadata": {},
   "source": [
    "### Training for real\n",
    "\n",
    "Now we'll put this algorithm into a loop so we can go through all the images. Some nomenclature, one pass through the entire dataset is called an *epoch*. So here we're going to loop through `trainloader` to get our training batches. For each batch, we'll doing a training pass where we calculate the loss, do a backwards pass, and update the weights.\n",
    "\n",
    ">**Exercise:** Implement the training pass for our network. If you implemented it correctly, you should see the training loss drop with each epoch."
   ]
  },
  {
   "cell_type": "code",
   "execution_count": 15,
   "metadata": {
    "scrolled": false
   },
   "outputs": [
    {
     "name": "stdout",
     "output_type": "stream",
     "text": [
      "Training loss: 1.9390090790384613\n",
      "Training loss: 0.8677724669419372\n",
      "Training loss: 0.5324728568034894\n",
      "Training loss: 0.4357990325450389\n",
      "Training loss: 0.392062419163647\n"
     ]
    }
   ],
   "source": [
    "## Your solution here\n",
    "\n",
    "model = nn.Sequential(nn.Linear(784, 128),\n",
    "                      nn.ReLU(),\n",
    "                      nn.Linear(128, 64),\n",
    "                      nn.ReLU(),\n",
    "                      nn.Linear(64, 10),\n",
    "                      nn.LogSoftmax(dim=1))\n",
    "\n",
    "criterion = nn.NLLLoss()\n",
    "optimizer = optim.SGD(model.parameters(), lr=0.003)\n",
    "\n",
    "epochs = 5\n",
    "for e in range(epochs):\n",
    "    running_loss = 0\n",
    "    for images, labels in trainloader:\n",
    "        # Flatten MNIST images into a 784 long vector\n",
    "        images = images.view(images.shape[0], -1)\n",
    "    \n",
    "        # TODO: Training pass\n",
    "        optimizer.zero_grad()\n",
    "        \n",
    "        output = model(images)\n",
    "        \n",
    "        loss = criterion(output, labels)\n",
    "        loss.backward()\n",
    "        \n",
    "        optimizer.step()\n",
    "        \n",
    "        running_loss += loss.item()\n",
    "    else:\n",
    "        print(f\"Training loss: {running_loss/len(trainloader)}\")\n",
    "        "
   ]
  },
  {
   "cell_type": "markdown",
   "metadata": {},
   "source": [
    "With the network trained, we can check out it's predictions."
   ]
  },
  {
   "cell_type": "code",
   "execution_count": 16,
   "metadata": {},
   "outputs": [
    {
     "data": {
      "image/png": "[encoded data removed]",
      "text/plain": [
       "<matplotlib.figure.Figure at 0x7f367f76deb8>"
      ]
     },
     "metadata": {
      "needs_background": "light"
     },
     "output_type": "display_data"
    }
   ],
   "source": [
    "%matplotlib inline\n",
    "import helper\n",
    "\n",
    "images, labels = next(iter(trainloader))\n",
    "\n",
    "img = images[0].view(1, 784)\n",
    "# Turn off gradients to speed up this part\n",
    "with torch.no_grad():\n",
    "    logits = model.forward(img)\n",
    "\n",
    "# Output of the network are logits, need to take softmax for probabilities\n",
    "ps = F.softmax(logits, dim=1)\n",
    "helper.view_classify(img.view(1, 28, 28), ps)"
   ]
  },
  {
   "cell_type": "markdown",
   "metadata": {},
   "source": [
    "Now our network is brilliant. It can accurately predict the digits in our images. Next up you'll write the code for training a neural network on a more complex dataset."
   ]
  }
 ],
 "metadata": {
  "kernelspec": {
   "display_name": "Python 3",
   "language": "python",
   "name": "python3"
  },
  "language_info": {
   "codemirror_mode": {
    "name": "ipython",
    "version": 3
   },
   "file_extension": ".py",
   "mimetype": "text/x-python",
   "name": "python",
   "nbconvert_exporter": "python",
   "pygments_lexer": "ipython3",
   "version": "3.6.3"
  }
 },
 "nbformat": 4,
 "nbformat_minor": 2
}
